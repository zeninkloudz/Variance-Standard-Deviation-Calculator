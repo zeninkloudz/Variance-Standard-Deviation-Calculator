{
 "cells": [
  {
   "cell_type": "code",
   "execution_count": 16,
   "metadata": {},
   "outputs": [],
   "source": [
    "import numpy as np\n",
    "\n",
    "def calculate(lst):\n",
    "    if len(lst) != 9:\n",
    "        raise ValueError(\"List must contain nine numbers.\")\n",
    "    \n",
    "    lst = np.array(lst).reshape((3, 3))\n",
    "\n",
    "    calculations = {\n",
    "        'mean': [lst.mean(axis=0).tolist(), lst.mean(axis=1).tolist(), lst.mean().tolist()],\n",
    "        'variance': [lst.var(axis=0).tolist(), lst.var(axis=1).tolist(), lst.var().tolist()],\n",
    "        'standard deviation': [lst.std(axis=0).tolist(), lst.std(axis=1).tolist(), lst.std().tolist()],\n",
    "        'max': [lst.max(axis=0).tolist(), lst.max(axis=1).tolist(), lst.max().tolist()],\n",
    "        'min': [lst.min(axis=0).tolist(), lst.min(axis=1).tolist(), lst.min().tolist()],\n",
    "        'sum': [lst.sum(axis=0).tolist(), lst.sum(axis=1).tolist(), lst.sum().tolist()]\n",
    "    }\n",
    "\n",
    "    return calculations"
   ]
  },
  {
   "cell_type": "code",
   "execution_count": 17,
   "metadata": {},
   "outputs": [
    {
     "name": "stdout",
     "output_type": "stream",
     "text": [
      "{'mean': [[4.0, 5.0, 6.0], [2.0, 5.0, 8.0], 5.0], 'variance': [[6.0, 6.0, 6.0], [0.6666666666666666, 0.6666666666666666, 0.6666666666666666], 6.666666666666667], 'standard deviation': [[2.449489742783178, 2.449489742783178, 2.449489742783178], [0.816496580927726, 0.816496580927726, 0.816496580927726], 2.581988897471611], 'max': [[7, 8, 9], [3, 6, 9], 9], 'min': [[1, 2, 3], [1, 4, 7], 1], 'sum': [[12, 15, 18], [6, 15, 24], 45]}\n"
     ]
    }
   ],
   "source": [
    "result = calculate([1, 2, 3, 4, 5, 6, 7, 8, 9])\n",
    "print(result)"
   ]
  }
 ],
 "metadata": {
  "kernelspec": {
   "display_name": "Python 3",
   "language": "python",
   "name": "python3"
  },
  "language_info": {
   "codemirror_mode": {
    "name": "ipython",
    "version": 3
   },
   "file_extension": ".py",
   "mimetype": "text/x-python",
   "name": "python",
   "nbconvert_exporter": "python",
   "pygments_lexer": "ipython3",
   "version": "3.11.9"
  }
 },
 "nbformat": 4,
 "nbformat_minor": 2
}
